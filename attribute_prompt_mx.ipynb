{
 "cells": [
  {
   "cell_type": "code",
   "execution_count": 9,
   "id": "1d9b7b9d-69f0-4150-8818-76a7f5ffb9e8",
   "metadata": {
    "tags": []
   },
   "outputs": [],
   "source": [
    "import pandas as pd\n",
    "from google.cloud import bigquery\n",
    "from google.cloud import storage"
   ]
  },
  {
   "cell_type": "code",
   "execution_count": 10,
   "id": "bce1cbc9-1f0c-46ed-8539-85f566d6f2c1",
   "metadata": {
    "tags": []
   },
   "outputs": [],
   "source": [
    "client = bigquery.Client()"
   ]
  },
  {
   "cell_type": "code",
   "execution_count": 6,
   "id": "a58352b2-cf0a-4a3a-8f49-fd37bc77c70a",
   "metadata": {
    "tags": []
   },
   "outputs": [],
   "source": [
    "import warnings\n",
    "warnings.filterwarnings('ignore')"
   ]
  },
  {
   "cell_type": "code",
   "execution_count": 11,
   "id": "929c0997-9663-47a6-bcd7-ea2015430ae0",
   "metadata": {
    "tags": []
   },
   "outputs": [],
   "source": [
    "query = \"\"\"select level_3,product_type,attribute,taxonomy_key,data_type,requirement_level,closed_list,multiselect,acceptable_values,\n",
    "example_values,acceptable_values_es,example_values_es,acceptable_units,definition,date_id \n",
    "from wmt-mlp-p-intlctlg-intlctlg.ae_intl_mx.omni_spec_flattened_mx_2 where date_id = '2024-11-27'\"\"\""
   ]
  },
  {
   "cell_type": "code",
   "execution_count": 12,
   "id": "d3c807c4-89fc-4c26-bbca-902d351d9203",
   "metadata": {
    "tags": []
   },
   "outputs": [],
   "source": [
    "df = client.query(query).result().to_dataframe()"
   ]
  },
  {
   "cell_type": "code",
   "execution_count": 13,
   "id": "e3d300b3-eb0f-4601-a5eb-961d3b972cde",
   "metadata": {
    "tags": []
   },
   "outputs": [
    {
     "data": {
      "text/html": [
       "<div>\n",
       "<style scoped>\n",
       "    .dataframe tbody tr th:only-of-type {\n",
       "        vertical-align: middle;\n",
       "    }\n",
       "\n",
       "    .dataframe tbody tr th {\n",
       "        vertical-align: top;\n",
       "    }\n",
       "\n",
       "    .dataframe thead th {\n",
       "        text-align: right;\n",
       "    }\n",
       "</style>\n",
       "<table border=\"1\" class=\"dataframe\">\n",
       "  <thead>\n",
       "    <tr style=\"text-align: right;\">\n",
       "      <th></th>\n",
       "      <th>level_3</th>\n",
       "      <th>product_type</th>\n",
       "      <th>attribute</th>\n",
       "      <th>taxonomy_key</th>\n",
       "      <th>data_type</th>\n",
       "      <th>requirement_level</th>\n",
       "      <th>closed_list</th>\n",
       "      <th>multiselect</th>\n",
       "      <th>acceptable_values</th>\n",
       "      <th>example_values</th>\n",
       "      <th>acceptable_values_es</th>\n",
       "      <th>example_values_es</th>\n",
       "      <th>acceptable_units</th>\n",
       "      <th>definition</th>\n",
       "      <th>date_id</th>\n",
       "    </tr>\n",
       "  </thead>\n",
       "  <tbody>\n",
       "    <tr>\n",
       "      <th>34773</th>\n",
       "      <td>Displays</td>\n",
       "      <td>Televisions</td>\n",
       "      <td>Number of Speakers</td>\n",
       "      <td>number_of_speakers</td>\n",
       "      <td>Integer</td>\n",
       "      <td>Required</td>\n",
       "      <td>No</td>\n",
       "      <td>No</td>\n",
       "      <td>None</td>\n",
       "      <td>1;2;3</td>\n",
       "      <td>None</td>\n",
       "      <td>None</td>\n",
       "      <td>None</td>\n",
       "      <td>The number of speakers in an item.</td>\n",
       "      <td>2024-11-27</td>\n",
       "    </tr>\n",
       "    <tr>\n",
       "      <th>34774</th>\n",
       "      <td>Displays</td>\n",
       "      <td>Televisions</td>\n",
       "      <td>Height (without stand)</td>\n",
       "      <td>height_without_stand</td>\n",
       "      <td>Decimal</td>\n",
       "      <td>Required</td>\n",
       "      <td>No</td>\n",
       "      <td>No</td>\n",
       "      <td>None</td>\n",
       "      <td>21\";19\"</td>\n",
       "      <td>None</td>\n",
       "      <td>None</td>\n",
       "      <td>m,cm</td>\n",
       "      <td>The height of the product (vertical measuremen...</td>\n",
       "      <td>2024-11-27</td>\n",
       "    </tr>\n",
       "    <tr>\n",
       "      <th>34775</th>\n",
       "      <td>Displays</td>\n",
       "      <td>Televisions</td>\n",
       "      <td>Height (with stand)</td>\n",
       "      <td>height_with_stand</td>\n",
       "      <td>Decimal</td>\n",
       "      <td>Required</td>\n",
       "      <td>No</td>\n",
       "      <td>No</td>\n",
       "      <td>None</td>\n",
       "      <td>21\";19\"</td>\n",
       "      <td>None</td>\n",
       "      <td>None</td>\n",
       "      <td>m,cm</td>\n",
       "      <td>The height of the product (vertical measuremen...</td>\n",
       "      <td>2024-11-27</td>\n",
       "    </tr>\n",
       "    <tr>\n",
       "      <th>34776</th>\n",
       "      <td>Displays</td>\n",
       "      <td>Televisions</td>\n",
       "      <td>Vertical Viewing Angle</td>\n",
       "      <td>vertical_viewing_angle</td>\n",
       "      <td>Integer</td>\n",
       "      <td>Recommended</td>\n",
       "      <td>No</td>\n",
       "      <td>No</td>\n",
       "      <td>None</td>\n",
       "      <td>100°;178°</td>\n",
       "      <td>None</td>\n",
       "      <td>None</td>\n",
       "      <td>º</td>\n",
       "      <td>The maximum angle at which the display can be ...</td>\n",
       "      <td>2024-11-27</td>\n",
       "    </tr>\n",
       "    <tr>\n",
       "      <th>34777</th>\n",
       "      <td>Displays</td>\n",
       "      <td>Televisions</td>\n",
       "      <td>Aspect Ratio</td>\n",
       "      <td>aspect_ratio</td>\n",
       "      <td>String</td>\n",
       "      <td>Required</td>\n",
       "      <td>No</td>\n",
       "      <td>No</td>\n",
       "      <td>None</td>\n",
       "      <td>16:09</td>\n",
       "      <td>None</td>\n",
       "      <td>None</td>\n",
       "      <td>None</td>\n",
       "      <td>The proportional relationship between the disp...</td>\n",
       "      <td>2024-11-27</td>\n",
       "    </tr>\n",
       "  </tbody>\n",
       "</table>\n",
       "</div>"
      ],
      "text/plain": [
       "        level_3 product_type               attribute            taxonomy_key  \\\n",
       "34773  Displays  Televisions      Number of Speakers      number_of_speakers   \n",
       "34774  Displays  Televisions  Height (without stand)    height_without_stand   \n",
       "34775  Displays  Televisions     Height (with stand)       height_with_stand   \n",
       "34776  Displays  Televisions  Vertical Viewing Angle  vertical_viewing_angle   \n",
       "34777  Displays  Televisions            Aspect Ratio            aspect_ratio   \n",
       "\n",
       "      data_type requirement_level closed_list multiselect acceptable_values  \\\n",
       "34773   Integer          Required          No          No              None   \n",
       "34774   Decimal          Required          No          No              None   \n",
       "34775   Decimal          Required          No          No              None   \n",
       "34776   Integer       Recommended          No          No              None   \n",
       "34777    String          Required          No          No              None   \n",
       "\n",
       "      example_values acceptable_values_es example_values_es acceptable_units  \\\n",
       "34773          1;2;3                 None              None             None   \n",
       "34774        21\";19\"                 None              None             m,cm   \n",
       "34775        21\";19\"                 None              None             m,cm   \n",
       "34776      100°;178°                 None              None                º   \n",
       "34777          16:09                 None              None             None   \n",
       "\n",
       "                                              definition     date_id  \n",
       "34773                 The number of speakers in an item.  2024-11-27  \n",
       "34774  The height of the product (vertical measuremen...  2024-11-27  \n",
       "34775  The height of the product (vertical measuremen...  2024-11-27  \n",
       "34776  The maximum angle at which the display can be ...  2024-11-27  \n",
       "34777  The proportional relationship between the disp...  2024-11-27  "
      ]
     },
     "execution_count": 13,
     "metadata": {},
     "output_type": "execute_result"
    }
   ],
   "source": [
    "pd.set_option('display.max_columns', None)\n",
    "df[df['product_type']=='Televisions'].head()"
   ]
  },
  {
   "cell_type": "code",
   "execution_count": 14,
   "id": "68d85e75-ff56-45e9-ab90-21b908888c0e",
   "metadata": {
    "tags": []
   },
   "outputs": [],
   "source": [
    "def create_attribute_prompt_es(row):\n",
    "    attribute = row['taxonomy_key']\n",
    "    closed_list = row['closed_list']\n",
    "    acceptable_values = row['acceptable_values']\n",
    "    example_values = row['example_values']\n",
    "    acceptable_values_es = row['acceptable_values_es']\n",
    "    example_values_es = row['example_values_es']\n",
    "    acceptable_units = row['acceptable_units']\n",
    "    multi_select = row['multiselect']\n",
    "    \n",
    "    prompt = f'\"{attribute}\": \"Any {attribute} found in the Product User Manual'\n",
    "    if closed_list == 'Yes':\n",
    "        if (acceptable_values_es is None or '' or not acceptable_values_es):\n",
    "            prompt += f' with valid options as {acceptable_values}'\n",
    "        else:\n",
    "            prompt += f' with valid options as {acceptable_values_es}'\n",
    "    else:\n",
    "        if (example_values_es is None or '' or not example_values_es):\n",
    "            prompt += f' in the format {example_values}'\n",
    "        else:\n",
    "            prompt += f' in the format {example_values_es}'\n",
    "    \n",
    "    if (acceptable_units is not None) and (not isinstance(acceptable_units, str)):\n",
    "        if pd.Series(acceptable_units).notna().any():\n",
    "            prompt += f'.Acceptable units are {acceptable_units}'\n",
    "    \n",
    "    if multi_select == 'Yes':\n",
    "        prompt += '.It can have multiple comma delimited values'\n",
    "    else:\n",
    "        prompt += '.It can have only one value'\n",
    "\n",
    "    prompt += '\"'\n",
    "    \n",
    "    return prompt\n",
    "\n",
    "df['attribute_prompt_es'] = df.apply(create_attribute_prompt_es, axis=1)"
   ]
  },
  {
   "cell_type": "code",
   "execution_count": 15,
   "id": "6c43121f-54eb-4ed1-b6a5-daea6176dce8",
   "metadata": {
    "tags": []
   },
   "outputs": [],
   "source": [
    "def create_attribute_prompt(row):\n",
    "    attribute = row['taxonomy_key']\n",
    "    closed_list = row['closed_list']\n",
    "    acceptable_values = row['acceptable_values']\n",
    "    example_values = row['example_values']\n",
    "    acceptable_units = row['acceptable_units']\n",
    "    multi_select = row['multiselect']\n",
    "    \n",
    "    prompt = f'\"{attribute}\": \"Any {attribute} found in the Product User Manual'\n",
    "    if closed_list == 'Yes':\n",
    "        prompt += f' with valid options as {acceptable_values}'\n",
    "    else:\n",
    "        prompt += f' in the format {example_values}'\n",
    "    \n",
    "    if (acceptable_units is not None) and (not isinstance(acceptable_units, str)):\n",
    "        if pd.Series(acceptable_units).notna().any():\n",
    "            prompt += f'.Acceptable units are {acceptable_units}'\n",
    "    \n",
    "    if multi_select == 'Yes':\n",
    "        prompt += '.It can have multiple comma delimited values'\n",
    "    else:\n",
    "        prompt += '.It can have only one value'\n",
    "\n",
    "    prompt += '\"'\n",
    "    \n",
    "    return prompt\n",
    "\n",
    "df['attribute_prompt_en'] = df.apply(create_attribute_prompt, axis=1)"
   ]
  },
  {
   "cell_type": "code",
   "execution_count": 16,
   "id": "f4184eae-e618-4c68-8298-aa395ede1340",
   "metadata": {
    "tags": []
   },
   "outputs": [],
   "source": [
    "df = df.rename(columns={'date_id': 'spec_date'})"
   ]
  },
  {
   "cell_type": "code",
   "execution_count": 17,
   "id": "cad789c4-4b60-4b60-88e7-ecb57487419a",
   "metadata": {
    "tags": []
   },
   "outputs": [
    {
     "data": {
      "text/html": [
       "<div>\n",
       "<style scoped>\n",
       "    .dataframe tbody tr th:only-of-type {\n",
       "        vertical-align: middle;\n",
       "    }\n",
       "\n",
       "    .dataframe tbody tr th {\n",
       "        vertical-align: top;\n",
       "    }\n",
       "\n",
       "    .dataframe thead th {\n",
       "        text-align: right;\n",
       "    }\n",
       "</style>\n",
       "<table border=\"1\" class=\"dataframe\">\n",
       "  <thead>\n",
       "    <tr style=\"text-align: right;\">\n",
       "      <th></th>\n",
       "      <th>level_3</th>\n",
       "      <th>product_type</th>\n",
       "      <th>attribute</th>\n",
       "      <th>taxonomy_key</th>\n",
       "      <th>data_type</th>\n",
       "      <th>requirement_level</th>\n",
       "      <th>closed_list</th>\n",
       "      <th>multiselect</th>\n",
       "      <th>acceptable_values</th>\n",
       "      <th>example_values</th>\n",
       "      <th>acceptable_values_es</th>\n",
       "      <th>example_values_es</th>\n",
       "      <th>acceptable_units</th>\n",
       "      <th>definition</th>\n",
       "      <th>spec_date</th>\n",
       "      <th>attribute_prompt_es</th>\n",
       "      <th>attribute_prompt_en</th>\n",
       "    </tr>\n",
       "  </thead>\n",
       "  <tbody>\n",
       "    <tr>\n",
       "      <th>0</th>\n",
       "      <td>Engine Replacement Parts</td>\n",
       "      <td>Automotive Drain Plugs</td>\n",
       "      <td>Fastener Head Type</td>\n",
       "      <td>fastener_head_type</td>\n",
       "      <td>String</td>\n",
       "      <td>Recommended</td>\n",
       "      <td>Yes</td>\n",
       "      <td>No</td>\n",
       "      <td>Button Head;Dome Head;Flat Head;Hex Flange Hea...</td>\n",
       "      <td>None</td>\n",
       "      <td>Cabeza de Botón;Cabeza de Cúpula;Cabeza Plana;...</td>\n",
       "      <td>None</td>\n",
       "      <td>None</td>\n",
       "      <td>Type of Fastener Head depending on the shape, ...</td>\n",
       "      <td>2024-11-27</td>\n",
       "      <td>\"fastener_head_type\": \"Any fastener_head_type ...</td>\n",
       "      <td>\"fastener_head_type\": \"Any fastener_head_type ...</td>\n",
       "    </tr>\n",
       "    <tr>\n",
       "      <th>1</th>\n",
       "      <td>Engine Replacement Parts</td>\n",
       "      <td>Automotive Drain Plugs</td>\n",
       "      <td>Automotive Drain Plug Type</td>\n",
       "      <td>automotive_drain_plug_type</td>\n",
       "      <td>String</td>\n",
       "      <td>Required</td>\n",
       "      <td>Yes</td>\n",
       "      <td>No</td>\n",
       "      <td>Radiator Drain Plug;Transmission Drain Plug;Oi...</td>\n",
       "      <td>None</td>\n",
       "      <td>Tapón de Drenaje del Radiador;Tapón de Drenaje...</td>\n",
       "      <td>None</td>\n",
       "      <td>None</td>\n",
       "      <td>Type of automotive drain plug depending on the...</td>\n",
       "      <td>2024-11-27</td>\n",
       "      <td>\"automotive_drain_plug_type\": \"Any automotive_...</td>\n",
       "      <td>\"automotive_drain_plug_type\": \"Any automotive_...</td>\n",
       "    </tr>\n",
       "    <tr>\n",
       "      <th>2</th>\n",
       "      <td>Engine Replacement Parts</td>\n",
       "      <td>Automotive Drain Plugs</td>\n",
       "      <td>Vehicle Make</td>\n",
       "      <td>vehicle_make</td>\n",
       "      <td>String</td>\n",
       "      <td>Recommended</td>\n",
       "      <td>No</td>\n",
       "      <td>Yes</td>\n",
       "      <td>None</td>\n",
       "      <td>Ford;BMW;Toyota;KIA</td>\n",
       "      <td>None</td>\n",
       "      <td>None</td>\n",
       "      <td>None</td>\n",
       "      <td>The manufacturer’s marque, under which the veh...</td>\n",
       "      <td>2024-11-27</td>\n",
       "      <td>\"vehicle_make\": \"Any vehicle_make found in the...</td>\n",
       "      <td>\"vehicle_make\": \"Any vehicle_make found in the...</td>\n",
       "    </tr>\n",
       "    <tr>\n",
       "      <th>3</th>\n",
       "      <td>Engine Replacement Parts</td>\n",
       "      <td>Automotive Drain Plugs</td>\n",
       "      <td>Vehicle Type</td>\n",
       "      <td>vehicle_type</td>\n",
       "      <td>String</td>\n",
       "      <td>Required</td>\n",
       "      <td>Yes</td>\n",
       "      <td>Yes</td>\n",
       "      <td>Boat;Bus;Car;Dirt Bike;Go-Kart;Golf Cart;Mini ...</td>\n",
       "      <td>None</td>\n",
       "      <td>Barco;Autobús;Coche;Moto de Cross;Go Kart;Carr...</td>\n",
       "      <td>None</td>\n",
       "      <td>None</td>\n",
       "      <td>Grouping of different kinds of vehicles based ...</td>\n",
       "      <td>2024-11-27</td>\n",
       "      <td>\"vehicle_type\": \"Any vehicle_type found in the...</td>\n",
       "      <td>\"vehicle_type\": \"Any vehicle_type found in the...</td>\n",
       "    </tr>\n",
       "    <tr>\n",
       "      <th>4</th>\n",
       "      <td>Engine Replacement Parts</td>\n",
       "      <td>Automotive Drain Plugs</td>\n",
       "      <td>Vehicle Year</td>\n",
       "      <td>vehicle_year</td>\n",
       "      <td>Integer</td>\n",
       "      <td>Recommended</td>\n",
       "      <td>No</td>\n",
       "      <td>Yes</td>\n",
       "      <td>None</td>\n",
       "      <td>2019;1995</td>\n",
       "      <td>None</td>\n",
       "      <td>None</td>\n",
       "      <td>None</td>\n",
       "      <td>The model year as provided by the manufacturer...</td>\n",
       "      <td>2024-11-27</td>\n",
       "      <td>\"vehicle_year\": \"Any vehicle_year found in the...</td>\n",
       "      <td>\"vehicle_year\": \"Any vehicle_year found in the...</td>\n",
       "    </tr>\n",
       "  </tbody>\n",
       "</table>\n",
       "</div>"
      ],
      "text/plain": [
       "                    level_3            product_type  \\\n",
       "0  Engine Replacement Parts  Automotive Drain Plugs   \n",
       "1  Engine Replacement Parts  Automotive Drain Plugs   \n",
       "2  Engine Replacement Parts  Automotive Drain Plugs   \n",
       "3  Engine Replacement Parts  Automotive Drain Plugs   \n",
       "4  Engine Replacement Parts  Automotive Drain Plugs   \n",
       "\n",
       "                    attribute                taxonomy_key data_type  \\\n",
       "0          Fastener Head Type          fastener_head_type    String   \n",
       "1  Automotive Drain Plug Type  automotive_drain_plug_type    String   \n",
       "2                Vehicle Make                vehicle_make    String   \n",
       "3                Vehicle Type                vehicle_type    String   \n",
       "4                Vehicle Year                vehicle_year   Integer   \n",
       "\n",
       "  requirement_level closed_list multiselect  \\\n",
       "0       Recommended         Yes          No   \n",
       "1          Required         Yes          No   \n",
       "2       Recommended          No         Yes   \n",
       "3          Required         Yes         Yes   \n",
       "4       Recommended          No         Yes   \n",
       "\n",
       "                                   acceptable_values       example_values  \\\n",
       "0  Button Head;Dome Head;Flat Head;Hex Flange Hea...                 None   \n",
       "1  Radiator Drain Plug;Transmission Drain Plug;Oi...                 None   \n",
       "2                                               None  Ford;BMW;Toyota;KIA   \n",
       "3  Boat;Bus;Car;Dirt Bike;Go-Kart;Golf Cart;Mini ...                 None   \n",
       "4                                               None            2019;1995   \n",
       "\n",
       "                                acceptable_values_es example_values_es  \\\n",
       "0  Cabeza de Botón;Cabeza de Cúpula;Cabeza Plana;...              None   \n",
       "1  Tapón de Drenaje del Radiador;Tapón de Drenaje...              None   \n",
       "2                                               None              None   \n",
       "3  Barco;Autobús;Coche;Moto de Cross;Go Kart;Carr...              None   \n",
       "4                                               None              None   \n",
       "\n",
       "  acceptable_units                                         definition  \\\n",
       "0             None  Type of Fastener Head depending on the shape, ...   \n",
       "1             None  Type of automotive drain plug depending on the...   \n",
       "2             None  The manufacturer’s marque, under which the veh...   \n",
       "3             None  Grouping of different kinds of vehicles based ...   \n",
       "4             None  The model year as provided by the manufacturer...   \n",
       "\n",
       "    spec_date                                attribute_prompt_es  \\\n",
       "0  2024-11-27  \"fastener_head_type\": \"Any fastener_head_type ...   \n",
       "1  2024-11-27  \"automotive_drain_plug_type\": \"Any automotive_...   \n",
       "2  2024-11-27  \"vehicle_make\": \"Any vehicle_make found in the...   \n",
       "3  2024-11-27  \"vehicle_type\": \"Any vehicle_type found in the...   \n",
       "4  2024-11-27  \"vehicle_year\": \"Any vehicle_year found in the...   \n",
       "\n",
       "                                 attribute_prompt_en  \n",
       "0  \"fastener_head_type\": \"Any fastener_head_type ...  \n",
       "1  \"automotive_drain_plug_type\": \"Any automotive_...  \n",
       "2  \"vehicle_make\": \"Any vehicle_make found in the...  \n",
       "3  \"vehicle_type\": \"Any vehicle_type found in the...  \n",
       "4  \"vehicle_year\": \"Any vehicle_year found in the...  "
      ]
     },
     "execution_count": 17,
     "metadata": {},
     "output_type": "execute_result"
    }
   ],
   "source": [
    "df.head()"
   ]
  },
  {
   "cell_type": "code",
   "execution_count": 18,
   "id": "b5552447-757c-4fe2-a90b-7ab1c1b08c07",
   "metadata": {
    "tags": []
   },
   "outputs": [
    {
     "data": {
      "text/plain": [
       "(540933, 17)"
      ]
     },
     "execution_count": 18,
     "metadata": {},
     "output_type": "execute_result"
    }
   ],
   "source": [
    "df.shape"
   ]
  },
  {
   "cell_type": "code",
   "execution_count": 19,
   "id": "62782935-b1c8-4a86-8b87-c09ea5256aa3",
   "metadata": {
    "tags": []
   },
   "outputs": [
    {
     "data": {
      "text/plain": [
       "'\"fastener_head_type\": \"Any fastener_head_type found in the Product User Manual with valid options as Button Head;Dome Head;Flat Head;Hex Flange Head;Hex Head;Hex Washer Head;Oval Head;Pan Head;Phillips Head;Round Head;Slotted Hex Washer Head;Socket Cap Head;Square Head;Truss Head.It can have only one value\"'"
      ]
     },
     "execution_count": 19,
     "metadata": {},
     "output_type": "execute_result"
    }
   ],
   "source": [
    "df['attribute_prompt_en'].iloc[0]"
   ]
  },
  {
   "cell_type": "code",
   "execution_count": 20,
   "id": "822c448c-0e02-4a01-a304-2ff689f5dde3",
   "metadata": {
    "tags": []
   },
   "outputs": [
    {
     "data": {
      "text/plain": [
       "'\"vehicle_fitment_type\": \"Any vehicle_fitment_type found in the Product User Manual with valid options as Específico;Universal.It can have only one value\"'"
      ]
     },
     "execution_count": 20,
     "metadata": {},
     "output_type": "execute_result"
    }
   ],
   "source": [
    "df['attribute_prompt_es'].iloc[45]"
   ]
  },
  {
   "cell_type": "code",
   "execution_count": 21,
   "id": "0b696ee2-700d-40bf-80aa-933320e3beec",
   "metadata": {
    "tags": []
   },
   "outputs": [],
   "source": [
    "bucket_name = 'gs://wmt-mlp-p-intlctlg-export-bucket'\n",
    "blob_path = 'AE/GenAI'"
   ]
  },
  {
   "cell_type": "code",
   "execution_count": 22,
   "id": "51578b2f-4a5a-4278-98f3-184fb59fa8bf",
   "metadata": {
    "tags": []
   },
   "outputs": [],
   "source": [
    "PT_attribute_path = f\"{bucket_name}/{blob_path}/ae_attribute_spec_mx.parquet\""
   ]
  },
  {
   "cell_type": "code",
   "execution_count": 23,
   "id": "2281d48d-1822-4473-908a-7b6c91610ebc",
   "metadata": {
    "tags": []
   },
   "outputs": [],
   "source": [
    "df.to_parquet(PT_attribute_path)"
   ]
  },
  {
   "cell_type": "code",
   "execution_count": null,
   "id": "8bdeef4f-e25a-4e90-9d32-5f9ed68c24b0",
   "metadata": {},
   "outputs": [],
   "source": []
  }
 ],
 "metadata": {
  "environment": {
   "kernel": "python3",
   "name": ".m124",
   "type": "gcloud",
   "uri": "us-docker.pkg.dev/deeplearning-platform-release/gcr.io/:m124"
  },
  "kernelspec": {
   "display_name": "Python 3 (Local)",
   "language": "python",
   "name": "python3"
  },
  "language_info": {
   "codemirror_mode": {
    "name": "ipython",
    "version": 3
   },
   "file_extension": ".py",
   "mimetype": "text/x-python",
   "name": "python",
   "nbconvert_exporter": "python",
   "pygments_lexer": "ipython3",
   "version": "3.10.14"
  }
 },
 "nbformat": 4,
 "nbformat_minor": 5
}
